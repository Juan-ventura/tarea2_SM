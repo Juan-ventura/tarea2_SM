{
 "cells": [
  {
   "cell_type": "markdown",
   "metadata": {},
   "source": [
    "# **PYTHON**\n",
    "> ¡invertir tiempo y dinero en python! "
   ]
  },
  {
   "cell_type": "markdown",
   "metadata": {},
   "source": [
    "## En python \n",
    "\n",
    "-Los lenguajes de **programación** van en constante cambio, ya que, rápidamente se convierte en un verdadero trabajo saber cuáles valen la pena invertir su tiempo y dinero. y pues en este caso, **Python** destaca.\n",
    "Python ha sido de gran importancia de la codificación aproximadamente 30 años, esto lo convierte en respetable y solido.\n",
    "\n",
    "\n",
    "- Una de las preguntas mas importantes es saber si este tipo de programa es dificil de enseñar al equipo de trabajo; en este caso enseñar a su equipo es más simples de lo que parece, ya que, los conceptos basicos de programación  resultarán ser más facil de impartir que los superiores. \n",
    "\n",
    "- Dependiendo de su nivel de comodidad y de su comprensión, cuando se trata de enseñanza y formación, es posible que desee considerar traer algo de ayuda adicional para preparar a su equipo para enseñar lo que podría ser un **lenguaje de programación \"desconocido\"**. Para la mayoría de los equipos de trabajos empresariales que buscan mejorar su presencia web o dominar nuevas técnicas de codificación, la capacitación de Python es una necesidad, \"sin duda\", por ende, es neceario que su equipo conozca el concepto basico. en pocas palabras, que se interesen en conocer el **\"NUEVO MUNDO\"**\n",
    "\n",
    "<img style=\"float: center; margin: 0px 0px 15px 15px;\" src=\"https://i.ytimg.com/vi/Z4AOP7-b1RM/maxresdefault.jpg\" width=\"200px\" height=\"200px\" alt=\"atom\" align=\"center\" />\n",
    "\n",
    "\n",
    "**Información obtenida de internet**: http://anewdomain.net/spotlight-should-you-invest-in-python-training/"
   ]
  },
  {
   "cell_type": "markdown",
   "metadata": {},
   "source": [
    "## Razones para aprender Python"
   ]
  },
  {
   "cell_type": "markdown",
   "metadata": {},
   "source": [
    "-Como ya se a mencionado a lo largo del texto es que Python está ganando popularidad, ya que, Python es fácil de usar, potente y versátil, por lo que es una gran opción tanto para principiantes como para expertos. \"La legibilidad de Python lo convierte en un gran primer lenguaje de programación: te permite pensar como un programador y no perder el tiempo con una sintaxis confusa\".\n",
    "\n",
    "- Es importante mencionar, como las grandes empresas como por ejemplo son; Google, Spotify y Netflix utilizan una mezcla de lenguajes. Un gran ejemplo seria spotify utiliza Java en gran medida, tambien utiliza Python para \"cosas como su API web y su consola de API interactiva\",esto a su vez le permite a los desarrolladores explorar puntos finales con una interfaz fácil de usar.también dicha aplicacion utiliza Python para el análisis de datos y otros procesos no orientados al cliente, \"como un sistema de recuperación de servidores DNS, su sistema de pago y su sistema de gestión de contenido de etiquetas\". \n",
    "- Si observas estas empresas, puedes encontrar similitudes ya que utilizaron python para beneficiar su facilidad de uso y porque es ideal para la creación rápida de prototipos y la iteración. También puedes ver que Python se puede utilizar para una amplia variedad de aplicaciones\n",
    "\n",
    "<img style=\"float: center; margin: 0px 0px 15px 15px;\" src=\"https://i.ytimg.com/vi/tmt5SdvTqUI/hqdefault.jpg\" width=\"200px\" height=\"200px\" alt=\"atom\" align=\"center\" />\n",
    "**Información obtenida de internet**: http://anewdomain.net/spotlight-should-you-invest-in-python-training/"
   ]
  }
 ],
 "metadata": {
  "kernelspec": {
   "display_name": "Python 3",
   "language": "python",
   "name": "python3"
  },
  "language_info": {
   "codemirror_mode": {
    "name": "ipython",
    "version": 3
   },
   "file_extension": ".py",
   "mimetype": "text/x-python",
   "name": "python",
   "nbconvert_exporter": "python",
   "pygments_lexer": "ipython3",
   "version": "3.6.6"
  }
 },
 "nbformat": 4,
 "nbformat_minor": 2
}
